{
 "cells": [
  {
   "cell_type": "code",
   "execution_count": 12,
   "id": "9484a67e",
   "metadata": {},
   "outputs": [],
   "source": [
    "mov = \"The Dark Knight\""
   ]
  },
  {
   "cell_type": "code",
   "execution_count": 13,
   "id": "c348c386",
   "metadata": {},
   "outputs": [],
   "source": [
    "mov_rate = 3"
   ]
  },
  {
   "cell_type": "code",
   "execution_count": 14,
   "id": "ba7e3b1c",
   "metadata": {},
   "outputs": [],
   "source": [
    "mov_score = 72.65"
   ]
  },
  {
   "cell_type": "code",
   "execution_count": 15,
   "id": "7107b9d3",
   "metadata": {},
   "outputs": [
    {
     "name": "stdout",
     "output_type": "stream",
     "text": [
      "I recommended it, It is good\n"
     ]
    }
   ],
   "source": [
    "if mov_rate >= 4 and mov_score > 80:\n",
    "    print(\"Highly recommended\")\n",
    "elif mov_rate >= 3 and mov_score > 70:\n",
    "    print(\"I recommended it, It is good\")\n",
    "elif mov_rate <= 2 and mov_score > 60:\n",
    "    print(\"You should check it out!\")\n",
    "else:\n",
    "    print(\"Don't watch it, It is a waste of time\")"
   ]
  }
 ],
 "metadata": {
  "kernelspec": {
   "display_name": "Python 3 (ipykernel)",
   "language": "python",
   "name": "python3"
  },
  "language_info": {
   "codemirror_mode": {
    "name": "ipython",
    "version": 3
   },
   "file_extension": ".py",
   "mimetype": "text/x-python",
   "name": "python",
   "nbconvert_exporter": "python",
   "pygments_lexer": "ipython3",
   "version": "3.11.3"
  }
 },
 "nbformat": 4,
 "nbformat_minor": 5
}
